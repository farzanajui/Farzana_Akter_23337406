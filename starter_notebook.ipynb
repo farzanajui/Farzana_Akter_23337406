{
  "cells": [
    {
      "cell_type": "markdown",
      "metadata": {
        "id": "view-in-github",
        "colab_type": "text"
      },
      "source": [
        "<a href=\"https://colab.research.google.com/github/farzanajui/Farzana_Akter_23337406/blob/main/starter_notebook.ipynb\" target=\"_parent\"><img src=\"https://colab.research.google.com/assets/colab-badge.svg\" alt=\"Open In Colab\"/></a>"
      ]
    },
    {
      "cell_type": "markdown",
      "id": "72e78a05",
      "metadata": {
        "id": "72e78a05"
      },
      "source": [
        "# 🌦️ WeatherWise – Starter Notebook\n",
        "\n",
        "Welcome to your **WeatherWise** project notebook! This scaffold is designed to help you build your weather advisor app using Python, visualisations, and AI-enhanced development.\n",
        "\n",
        "---\n",
        "\n",
        "📄 **Full Assignment Specification**  \n",
        "See [`ASSIGNMENT.md`](ASSIGNMENT.md) or check the LMS for full details.\n",
        "\n",
        "📝 **Quick Refresher**  \n",
        "A one-page summary is available in [`resources/assignment-summary.md`](resources/assignment-summary.md).\n",
        "\n",
        "---\n",
        "\n",
        "🧠 **This Notebook Structure is Optional**  \n",
        "You’re encouraged to reorganise, rename sections, or remove scaffold cells if you prefer — as long as your final version meets the requirements.\n",
        "\n",
        "✅ You may delete this note before submission.\n",
        "\n"
      ]
    },
    {
      "cell_type": "markdown",
      "id": "fa8c7f6c",
      "metadata": {
        "id": "fa8c7f6c"
      },
      "source": [
        "## 🧰 Setup and Imports\n",
        "\n",
        "This section imports commonly used packages and installs any additional tools used in the project.\n",
        "\n",
        "- You may not need all of these unless you're using specific features (e.g. visualisations, advanced prompting).\n",
        "- The notebook assumes the following packages are **pre-installed** in the provided environment or installable via pip:\n",
        "  - `requests`, `matplotlib`, `pyinputplus`\n",
        "  - `fetch-my-weather` (for accessing weather data easily)\n",
        "  - `hands-on-ai` (for AI logging, comparisons, or prompting tools)\n",
        "\n",
        "If you're running this notebook in **Google Colab**, uncomment the following lines to install the required packages.\n"
      ]
    },
    {
      "cell_type": "code",
      "execution_count": 1,
      "id": "70c3f3f1",
      "metadata": {
        "id": "70c3f3f1",
        "colab": {
          "base_uri": "https://localhost:8080/"
        },
        "outputId": "4bf9fb63-fed3-48ab-adcb-902a13f334af"
      },
      "outputs": [
        {
          "output_type": "stream",
          "name": "stdout",
          "text": [
            "Collecting fetch-my-weather\n",
            "  Downloading fetch_my_weather-0.4.0-py3-none-any.whl.metadata (12 kB)\n",
            "Requirement already satisfied: requests>=2.25.0 in /usr/local/lib/python3.12/dist-packages (from fetch-my-weather) (2.32.4)\n",
            "Requirement already satisfied: pydantic>=1.8.0 in /usr/local/lib/python3.12/dist-packages (from fetch-my-weather) (2.11.10)\n",
            "Requirement already satisfied: annotated-types>=0.6.0 in /usr/local/lib/python3.12/dist-packages (from pydantic>=1.8.0->fetch-my-weather) (0.7.0)\n",
            "Requirement already satisfied: pydantic-core==2.33.2 in /usr/local/lib/python3.12/dist-packages (from pydantic>=1.8.0->fetch-my-weather) (2.33.2)\n",
            "Requirement already satisfied: typing-extensions>=4.12.2 in /usr/local/lib/python3.12/dist-packages (from pydantic>=1.8.0->fetch-my-weather) (4.15.0)\n",
            "Requirement already satisfied: typing-inspection>=0.4.0 in /usr/local/lib/python3.12/dist-packages (from pydantic>=1.8.0->fetch-my-weather) (0.4.2)\n",
            "Requirement already satisfied: charset_normalizer<4,>=2 in /usr/local/lib/python3.12/dist-packages (from requests>=2.25.0->fetch-my-weather) (3.4.4)\n",
            "Requirement already satisfied: idna<4,>=2.5 in /usr/local/lib/python3.12/dist-packages (from requests>=2.25.0->fetch-my-weather) (3.11)\n",
            "Requirement already satisfied: urllib3<3,>=1.21.1 in /usr/local/lib/python3.12/dist-packages (from requests>=2.25.0->fetch-my-weather) (2.5.0)\n",
            "Requirement already satisfied: certifi>=2017.4.17 in /usr/local/lib/python3.12/dist-packages (from requests>=2.25.0->fetch-my-weather) (2025.10.5)\n",
            "Downloading fetch_my_weather-0.4.0-py3-none-any.whl (17 kB)\n",
            "Installing collected packages: fetch-my-weather\n",
            "Successfully installed fetch-my-weather-0.4.0\n",
            "Collecting hands-on-ai\n",
            "  Downloading hands_on_ai-0.2.1-py3-none-any.whl.metadata (9.2 kB)\n",
            "Requirement already satisfied: requests in /usr/local/lib/python3.12/dist-packages (from hands-on-ai) (2.32.4)\n",
            "Requirement already satisfied: typer in /usr/local/lib/python3.12/dist-packages (from hands-on-ai) (0.19.2)\n",
            "Collecting python-fasthtml (from hands-on-ai)\n",
            "  Downloading python_fasthtml-0.12.30-py3-none-any.whl.metadata (9.3 kB)\n",
            "Collecting python-docx (from hands-on-ai)\n",
            "  Downloading python_docx-1.2.0-py3-none-any.whl.metadata (2.0 kB)\n",
            "Collecting pymupdf (from hands-on-ai)\n",
            "  Downloading pymupdf-1.26.5-cp39-abi3-manylinux_2_28_x86_64.whl.metadata (3.4 kB)\n",
            "Requirement already satisfied: scikit-learn in /usr/local/lib/python3.12/dist-packages (from hands-on-ai) (1.6.1)\n",
            "Requirement already satisfied: numpy in /usr/local/lib/python3.12/dist-packages (from hands-on-ai) (2.0.2)\n",
            "Collecting instructor>=1.11.0 (from hands-on-ai)\n",
            "  Downloading instructor-1.11.3-py3-none-any.whl.metadata (11 kB)\n",
            "Requirement already satisfied: pydantic>=2.0 in /usr/local/lib/python3.12/dist-packages (from hands-on-ai) (2.11.10)\n",
            "Requirement already satisfied: aiohttp<4.0.0,>=3.9.1 in /usr/local/lib/python3.12/dist-packages (from instructor>=1.11.0->hands-on-ai) (3.13.0)\n",
            "Collecting diskcache>=5.6.3 (from instructor>=1.11.0->hands-on-ai)\n",
            "  Downloading diskcache-5.6.3-py3-none-any.whl.metadata (20 kB)\n",
            "Requirement already satisfied: docstring-parser<1.0,>=0.16 in /usr/local/lib/python3.12/dist-packages (from instructor>=1.11.0->hands-on-ai) (0.17.0)\n",
            "Requirement already satisfied: jinja2<4.0.0,>=3.1.4 in /usr/local/lib/python3.12/dist-packages (from instructor>=1.11.0->hands-on-ai) (3.1.6)\n",
            "Collecting jiter<0.11,>=0.6.1 (from instructor>=1.11.0->hands-on-ai)\n",
            "  Downloading jiter-0.10.0-cp312-cp312-manylinux_2_17_x86_64.manylinux2014_x86_64.whl.metadata (5.2 kB)\n",
            "Requirement already satisfied: openai<2.0.0,>=1.70.0 in /usr/local/lib/python3.12/dist-packages (from instructor>=1.11.0->hands-on-ai) (1.109.1)\n",
            "Requirement already satisfied: pydantic-core<3.0.0,>=2.18.0 in /usr/local/lib/python3.12/dist-packages (from instructor>=1.11.0->hands-on-ai) (2.33.2)\n",
            "Requirement already satisfied: rich<15.0.0,>=13.7.0 in /usr/local/lib/python3.12/dist-packages (from instructor>=1.11.0->hands-on-ai) (13.9.4)\n",
            "Requirement already satisfied: tenacity<10.0.0,>=8.2.3 in /usr/local/lib/python3.12/dist-packages (from instructor>=1.11.0->hands-on-ai) (8.5.0)\n",
            "Requirement already satisfied: annotated-types>=0.6.0 in /usr/local/lib/python3.12/dist-packages (from pydantic>=2.0->hands-on-ai) (0.7.0)\n",
            "Requirement already satisfied: typing-extensions>=4.12.2 in /usr/local/lib/python3.12/dist-packages (from pydantic>=2.0->hands-on-ai) (4.15.0)\n",
            "Requirement already satisfied: typing-inspection>=0.4.0 in /usr/local/lib/python3.12/dist-packages (from pydantic>=2.0->hands-on-ai) (0.4.2)\n",
            "Requirement already satisfied: charset_normalizer<4,>=2 in /usr/local/lib/python3.12/dist-packages (from requests->hands-on-ai) (3.4.4)\n",
            "Requirement already satisfied: idna<4,>=2.5 in /usr/local/lib/python3.12/dist-packages (from requests->hands-on-ai) (3.11)\n",
            "Requirement already satisfied: urllib3<3,>=1.21.1 in /usr/local/lib/python3.12/dist-packages (from requests->hands-on-ai) (2.5.0)\n",
            "Requirement already satisfied: certifi>=2017.4.17 in /usr/local/lib/python3.12/dist-packages (from requests->hands-on-ai) (2025.10.5)\n",
            "Requirement already satisfied: click>=8.0.0 in /usr/local/lib/python3.12/dist-packages (from typer->hands-on-ai) (8.3.0)\n",
            "Requirement already satisfied: shellingham>=1.3.0 in /usr/local/lib/python3.12/dist-packages (from typer->hands-on-ai) (1.5.4)\n",
            "Requirement already satisfied: lxml>=3.1.0 in /usr/local/lib/python3.12/dist-packages (from python-docx->hands-on-ai) (5.4.0)\n",
            "Requirement already satisfied: fastcore>=1.8.1 in /usr/local/lib/python3.12/dist-packages (from python-fasthtml->hands-on-ai) (1.8.12)\n",
            "Requirement already satisfied: python-dateutil in /usr/local/lib/python3.12/dist-packages (from python-fasthtml->hands-on-ai) (2.9.0.post0)\n",
            "Requirement already satisfied: starlette>0.33 in /usr/local/lib/python3.12/dist-packages (from python-fasthtml->hands-on-ai) (0.48.0)\n",
            "Requirement already satisfied: oauthlib in /usr/local/lib/python3.12/dist-packages (from python-fasthtml->hands-on-ai) (3.3.1)\n",
            "Requirement already satisfied: itsdangerous in /usr/local/lib/python3.12/dist-packages (from python-fasthtml->hands-on-ai) (2.2.0)\n",
            "Requirement already satisfied: uvicorn>=0.30 in /usr/local/lib/python3.12/dist-packages (from uvicorn[standard]>=0.30->python-fasthtml->hands-on-ai) (0.37.0)\n",
            "Requirement already satisfied: httpx in /usr/local/lib/python3.12/dist-packages (from python-fasthtml->hands-on-ai) (0.28.1)\n",
            "Collecting fastlite>=0.1.1 (from python-fasthtml->hands-on-ai)\n",
            "  Downloading fastlite-0.2.1-py3-none-any.whl.metadata (12 kB)\n",
            "Requirement already satisfied: python-multipart in /usr/local/lib/python3.12/dist-packages (from python-fasthtml->hands-on-ai) (0.0.20)\n",
            "Requirement already satisfied: beautifulsoup4 in /usr/local/lib/python3.12/dist-packages (from python-fasthtml->hands-on-ai) (4.13.5)\n",
            "Requirement already satisfied: scipy>=1.6.0 in /usr/local/lib/python3.12/dist-packages (from scikit-learn->hands-on-ai) (1.16.2)\n",
            "Requirement already satisfied: joblib>=1.2.0 in /usr/local/lib/python3.12/dist-packages (from scikit-learn->hands-on-ai) (1.5.2)\n",
            "Requirement already satisfied: threadpoolctl>=3.1.0 in /usr/local/lib/python3.12/dist-packages (from scikit-learn->hands-on-ai) (3.6.0)\n",
            "Requirement already satisfied: aiohappyeyeballs>=2.5.0 in /usr/local/lib/python3.12/dist-packages (from aiohttp<4.0.0,>=3.9.1->instructor>=1.11.0->hands-on-ai) (2.6.1)\n",
            "Requirement already satisfied: aiosignal>=1.4.0 in /usr/local/lib/python3.12/dist-packages (from aiohttp<4.0.0,>=3.9.1->instructor>=1.11.0->hands-on-ai) (1.4.0)\n",
            "Requirement already satisfied: attrs>=17.3.0 in /usr/local/lib/python3.12/dist-packages (from aiohttp<4.0.0,>=3.9.1->instructor>=1.11.0->hands-on-ai) (25.4.0)\n",
            "Requirement already satisfied: frozenlist>=1.1.1 in /usr/local/lib/python3.12/dist-packages (from aiohttp<4.0.0,>=3.9.1->instructor>=1.11.0->hands-on-ai) (1.8.0)\n",
            "Requirement already satisfied: multidict<7.0,>=4.5 in /usr/local/lib/python3.12/dist-packages (from aiohttp<4.0.0,>=3.9.1->instructor>=1.11.0->hands-on-ai) (6.7.0)\n",
            "Requirement already satisfied: propcache>=0.2.0 in /usr/local/lib/python3.12/dist-packages (from aiohttp<4.0.0,>=3.9.1->instructor>=1.11.0->hands-on-ai) (0.4.1)\n",
            "Requirement already satisfied: yarl<2.0,>=1.17.0 in /usr/local/lib/python3.12/dist-packages (from aiohttp<4.0.0,>=3.9.1->instructor>=1.11.0->hands-on-ai) (1.22.0)\n",
            "Requirement already satisfied: packaging in /usr/local/lib/python3.12/dist-packages (from fastcore>=1.8.1->python-fasthtml->hands-on-ai) (25.0)\n",
            "Collecting apswutils>=0.1.0 (from fastlite>=0.1.1->python-fasthtml->hands-on-ai)\n",
            "  Downloading apswutils-0.1.0-py3-none-any.whl.metadata (7.4 kB)\n",
            "Requirement already satisfied: MarkupSafe>=2.0 in /usr/local/lib/python3.12/dist-packages (from jinja2<4.0.0,>=3.1.4->instructor>=1.11.0->hands-on-ai) (3.0.3)\n",
            "Requirement already satisfied: anyio<5,>=3.5.0 in /usr/local/lib/python3.12/dist-packages (from openai<2.0.0,>=1.70.0->instructor>=1.11.0->hands-on-ai) (4.11.0)\n",
            "Requirement already satisfied: distro<2,>=1.7.0 in /usr/local/lib/python3.12/dist-packages (from openai<2.0.0,>=1.70.0->instructor>=1.11.0->hands-on-ai) (1.9.0)\n",
            "Requirement already satisfied: sniffio in /usr/local/lib/python3.12/dist-packages (from openai<2.0.0,>=1.70.0->instructor>=1.11.0->hands-on-ai) (1.3.1)\n",
            "Requirement already satisfied: tqdm>4 in /usr/local/lib/python3.12/dist-packages (from openai<2.0.0,>=1.70.0->instructor>=1.11.0->hands-on-ai) (4.67.1)\n",
            "Requirement already satisfied: httpcore==1.* in /usr/local/lib/python3.12/dist-packages (from httpx->python-fasthtml->hands-on-ai) (1.0.9)\n",
            "Requirement already satisfied: h11>=0.16 in /usr/local/lib/python3.12/dist-packages (from httpcore==1.*->httpx->python-fasthtml->hands-on-ai) (0.16.0)\n",
            "Requirement already satisfied: markdown-it-py>=2.2.0 in /usr/local/lib/python3.12/dist-packages (from rich<15.0.0,>=13.7.0->instructor>=1.11.0->hands-on-ai) (4.0.0)\n",
            "Requirement already satisfied: pygments<3.0.0,>=2.13.0 in /usr/local/lib/python3.12/dist-packages (from rich<15.0.0,>=13.7.0->instructor>=1.11.0->hands-on-ai) (2.19.2)\n",
            "Collecting httptools>=0.6.3 (from uvicorn[standard]>=0.30->python-fasthtml->hands-on-ai)\n",
            "  Downloading httptools-0.7.1-cp312-cp312-manylinux1_x86_64.manylinux_2_28_x86_64.manylinux_2_5_x86_64.whl.metadata (3.5 kB)\n",
            "Requirement already satisfied: python-dotenv>=0.13 in /usr/local/lib/python3.12/dist-packages (from uvicorn[standard]>=0.30->python-fasthtml->hands-on-ai) (1.1.1)\n",
            "Requirement already satisfied: pyyaml>=5.1 in /usr/local/lib/python3.12/dist-packages (from uvicorn[standard]>=0.30->python-fasthtml->hands-on-ai) (6.0.3)\n",
            "Collecting uvloop>=0.15.1 (from uvicorn[standard]>=0.30->python-fasthtml->hands-on-ai)\n",
            "  Downloading uvloop-0.22.1-cp312-cp312-manylinux2014_x86_64.manylinux_2_17_x86_64.manylinux_2_28_x86_64.whl.metadata (4.9 kB)\n",
            "Collecting watchfiles>=0.13 (from uvicorn[standard]>=0.30->python-fasthtml->hands-on-ai)\n",
            "  Downloading watchfiles-1.1.1-cp312-cp312-manylinux_2_17_x86_64.manylinux2014_x86_64.whl.metadata (4.9 kB)\n",
            "Requirement already satisfied: websockets>=10.4 in /usr/local/lib/python3.12/dist-packages (from uvicorn[standard]>=0.30->python-fasthtml->hands-on-ai) (15.0.1)\n",
            "Requirement already satisfied: soupsieve>1.2 in /usr/local/lib/python3.12/dist-packages (from beautifulsoup4->python-fasthtml->hands-on-ai) (2.8)\n",
            "Requirement already satisfied: six>=1.5 in /usr/local/lib/python3.12/dist-packages (from python-dateutil->python-fasthtml->hands-on-ai) (1.17.0)\n",
            "Collecting apsw (from apswutils>=0.1.0->fastlite>=0.1.1->python-fasthtml->hands-on-ai)\n",
            "  Downloading apsw-3.50.4.0-cp312-cp312-manylinux_2_28_x86_64.whl.metadata (3.7 kB)\n",
            "Requirement already satisfied: mdurl~=0.1 in /usr/local/lib/python3.12/dist-packages (from markdown-it-py>=2.2.0->rich<15.0.0,>=13.7.0->instructor>=1.11.0->hands-on-ai) (0.1.2)\n",
            "Downloading hands_on_ai-0.2.1-py3-none-any.whl (143 kB)\n",
            "\u001b[2K   \u001b[90m━━━━━━━━━━━━━━━━━━━━━━━━━━━━━━━━━━━━━━━━\u001b[0m \u001b[32m143.7/143.7 kB\u001b[0m \u001b[31m6.8 MB/s\u001b[0m eta \u001b[36m0:00:00\u001b[0m\n",
            "\u001b[?25hDownloading instructor-1.11.3-py3-none-any.whl (155 kB)\n",
            "\u001b[2K   \u001b[90m━━━━━━━━━━━━━━━━━━━━━━━━━━━━━━━━━━━━━━━━\u001b[0m \u001b[32m155.5/155.5 kB\u001b[0m \u001b[31m6.9 MB/s\u001b[0m eta \u001b[36m0:00:00\u001b[0m\n",
            "\u001b[?25hDownloading pymupdf-1.26.5-cp39-abi3-manylinux_2_28_x86_64.whl (24.1 MB)\n",
            "\u001b[2K   \u001b[90m━━━━━━━━━━━━━━━━━━━━━━━━━━━━━━━━━━━━━━━━\u001b[0m \u001b[32m24.1/24.1 MB\u001b[0m \u001b[31m53.3 MB/s\u001b[0m eta \u001b[36m0:00:00\u001b[0m\n",
            "\u001b[?25hDownloading python_docx-1.2.0-py3-none-any.whl (252 kB)\n",
            "\u001b[2K   \u001b[90m━━━━━━━━━━━━━━━━━━━━━━━━━━━━━━━━━━━━━━━━\u001b[0m \u001b[32m253.0/253.0 kB\u001b[0m \u001b[31m19.0 MB/s\u001b[0m eta \u001b[36m0:00:00\u001b[0m\n",
            "\u001b[?25hDownloading python_fasthtml-0.12.30-py3-none-any.whl (72 kB)\n",
            "\u001b[2K   \u001b[90m━━━━━━━━━━━━━━━━━━━━━━━━━━━━━━━━━━━━━━━━\u001b[0m \u001b[32m72.3/72.3 kB\u001b[0m \u001b[31m2.6 MB/s\u001b[0m eta \u001b[36m0:00:00\u001b[0m\n",
            "\u001b[?25hDownloading diskcache-5.6.3-py3-none-any.whl (45 kB)\n",
            "\u001b[2K   \u001b[90m━━━━━━━━━━━━━━━━━━━━━━━━━━━━━━━━━━━━━━━━\u001b[0m \u001b[32m45.5/45.5 kB\u001b[0m \u001b[31m2.2 MB/s\u001b[0m eta \u001b[36m0:00:00\u001b[0m\n",
            "\u001b[?25hDownloading fastlite-0.2.1-py3-none-any.whl (17 kB)\n",
            "Downloading jiter-0.10.0-cp312-cp312-manylinux_2_17_x86_64.manylinux2014_x86_64.whl (352 kB)\n",
            "\u001b[2K   \u001b[90m━━━━━━━━━━━━━━━━━━━━━━━━━━━━━━━━━━━━━━━━\u001b[0m \u001b[32m352.0/352.0 kB\u001b[0m \u001b[31m21.2 MB/s\u001b[0m eta \u001b[36m0:00:00\u001b[0m\n",
            "\u001b[?25hDownloading apswutils-0.1.0-py3-none-any.whl (80 kB)\n",
            "\u001b[2K   \u001b[90m━━━━━━━━━━━━━━━━━━━━━━━━━━━━━━━━━━━━━━━━\u001b[0m \u001b[32m80.5/80.5 kB\u001b[0m \u001b[31m5.7 MB/s\u001b[0m eta \u001b[36m0:00:00\u001b[0m\n",
            "\u001b[?25hDownloading httptools-0.7.1-cp312-cp312-manylinux1_x86_64.manylinux_2_28_x86_64.manylinux_2_5_x86_64.whl (517 kB)\n",
            "\u001b[2K   \u001b[90m━━━━━━━━━━━━━━━━━━━━━━━━━━━━━━━━━━━━━━━━\u001b[0m \u001b[32m517.7/517.7 kB\u001b[0m \u001b[31m28.8 MB/s\u001b[0m eta \u001b[36m0:00:00\u001b[0m\n",
            "\u001b[?25hDownloading uvloop-0.22.1-cp312-cp312-manylinux2014_x86_64.manylinux_2_17_x86_64.manylinux_2_28_x86_64.whl (4.4 MB)\n",
            "\u001b[2K   \u001b[90m━━━━━━━━━━━━━━━━━━━━━━━━━━━━━━━━━━━━━━━━\u001b[0m \u001b[32m4.4/4.4 MB\u001b[0m \u001b[31m75.8 MB/s\u001b[0m eta \u001b[36m0:00:00\u001b[0m\n",
            "\u001b[?25hDownloading watchfiles-1.1.1-cp312-cp312-manylinux_2_17_x86_64.manylinux2014_x86_64.whl (456 kB)\n",
            "\u001b[2K   \u001b[90m━━━━━━━━━━━━━━━━━━━━━━━━━━━━━━━━━━━━━━━━\u001b[0m \u001b[32m456.8/456.8 kB\u001b[0m \u001b[31m24.9 MB/s\u001b[0m eta \u001b[36m0:00:00\u001b[0m\n",
            "\u001b[?25hDownloading apsw-3.50.4.0-cp312-cp312-manylinux_2_28_x86_64.whl (7.1 MB)\n",
            "\u001b[2K   \u001b[90m━━━━━━━━━━━━━━━━━━━━━━━━━━━━━━━━━━━━━━━━\u001b[0m \u001b[32m7.1/7.1 MB\u001b[0m \u001b[31m67.9 MB/s\u001b[0m eta \u001b[36m0:00:00\u001b[0m\n",
            "\u001b[?25hInstalling collected packages: uvloop, python-docx, pymupdf, jiter, httptools, diskcache, apsw, watchfiles, apswutils, fastlite, python-fasthtml, instructor, hands-on-ai\n",
            "  Attempting uninstall: jiter\n",
            "    Found existing installation: jiter 0.11.0\n",
            "    Uninstalling jiter-0.11.0:\n",
            "      Successfully uninstalled jiter-0.11.0\n",
            "Successfully installed apsw-3.50.4.0 apswutils-0.1.0 diskcache-5.6.3 fastlite-0.2.1 hands-on-ai-0.2.1 httptools-0.7.1 instructor-1.11.3 jiter-0.10.0 pymupdf-1.26.5 python-docx-1.2.0 python-fasthtml-0.12.30 uvloop-0.22.1 watchfiles-1.1.1\n",
            "Collecting pyinputplus\n",
            "  Downloading PyInputPlus-0.2.12.tar.gz (20 kB)\n",
            "  Installing build dependencies ... \u001b[?25l\u001b[?25hdone\n",
            "  Getting requirements to build wheel ... \u001b[?25l\u001b[?25hdone\n",
            "  Preparing metadata (pyproject.toml) ... \u001b[?25l\u001b[?25hdone\n",
            "Collecting pysimplevalidate>=0.2.7 (from pyinputplus)\n",
            "  Downloading PySimpleValidate-0.2.12.tar.gz (22 kB)\n",
            "  Installing build dependencies ... \u001b[?25l\u001b[?25hdone\n",
            "  Getting requirements to build wheel ... \u001b[?25l\u001b[?25hdone\n",
            "  Preparing metadata (pyproject.toml) ... \u001b[?25l\u001b[?25hdone\n",
            "Collecting stdiomask>=0.0.3 (from pyinputplus)\n",
            "  Downloading stdiomask-0.0.6.tar.gz (3.6 kB)\n",
            "  Installing build dependencies ... \u001b[?25l\u001b[?25hdone\n",
            "  Getting requirements to build wheel ... \u001b[?25l\u001b[?25hdone\n",
            "  Preparing metadata (pyproject.toml) ... \u001b[?25l\u001b[?25hdone\n",
            "Building wheels for collected packages: pyinputplus, pysimplevalidate, stdiomask\n",
            "  Building wheel for pyinputplus (pyproject.toml) ... \u001b[?25l\u001b[?25hdone\n",
            "  Created wheel for pyinputplus: filename=pyinputplus-0.2.12-py3-none-any.whl size=11348 sha256=2e54f3c695b06c57612930e3c3848801f917d800d21cc04279343ba588d1576a\n",
            "  Stored in directory: /root/.cache/pip/wheels/85/81/c1/325c8199c5c4de8a0b9af900ff9cd8bd69853e3d9419493512\n",
            "  Building wheel for pysimplevalidate (pyproject.toml) ... \u001b[?25l\u001b[?25hdone\n",
            "  Created wheel for pysimplevalidate: filename=pysimplevalidate-0.2.12-py3-none-any.whl size=16225 sha256=7aa648f08799e874786f9001f601a560595e35e238e498140a81f6fd435c735d\n",
            "  Stored in directory: /root/.cache/pip/wheels/09/de/18/4dd2be0dbdf31870c6f0abde43b0de197b1c095655ad7da5c2\n",
            "  Building wheel for stdiomask (pyproject.toml) ... \u001b[?25l\u001b[?25hdone\n",
            "  Created wheel for stdiomask: filename=stdiomask-0.0.6-py3-none-any.whl size=3358 sha256=20fd0540cfbac838ab567688a438cec059b2a481b332cd17e8f635bbec8936df\n",
            "  Stored in directory: /root/.cache/pip/wheels/05/c7/e6/c66ff8c008b4d73f2db458feb4922075e7755853fe496e5135\n",
            "Successfully built pyinputplus pysimplevalidate stdiomask\n",
            "Installing collected packages: stdiomask, pysimplevalidate, pyinputplus\n",
            "Successfully installed pyinputplus-0.2.12 pysimplevalidate-0.2.12 stdiomask-0.0.6\n"
          ]
        }
      ],
      "source": [
        "# 🧪 Optional packages — uncomment if needed in Colab or JupyterHub\n",
        "!pip install fetch-my-weather\n",
        "!pip install hands-on-ai\n",
        "!pip install pyinputplus"
      ]
    },
    {
      "cell_type": "code",
      "source": [
        "import os\n",
        "\n",
        "os.environ['HANDS_ON_AI_SERVER'] = 'http://ollama.serveur.au'\n",
        "os.environ['HANDS_ON_AI_MODEL'] = 'granite3.2'\n",
        "os.environ['HANDS_ON_AI_API_KEY'] = input('Enter your API key: ')"
      ],
      "metadata": {
        "id": "B2JKlJfrGgIb",
        "colab": {
          "base_uri": "https://localhost:8080/"
        },
        "outputId": "ba49dd77-4bed-47c1-8b23-22c772508337"
      },
      "id": "B2JKlJfrGgIb",
      "execution_count": 2,
      "outputs": [
        {
          "name": "stdout",
          "output_type": "stream",
          "text": [
            "Enter your API key: 0749442c62d8427dacd7bf2fc3245ed7.L34nnJS2MhpTBymjN6ubsKE9\n"
          ]
        }
      ]
    },
    {
      "cell_type": "markdown",
      "id": "59ae7543",
      "metadata": {
        "id": "59ae7543"
      },
      "source": [
        "## 📦 Setup and Configuration\n",
        "Import required packages and setup environment."
      ]
    },
    {
      "cell_type": "code",
      "execution_count": 3,
      "id": "f1dd051e",
      "metadata": {
        "id": "f1dd051e"
      },
      "outputs": [],
      "source": [
        "import requests\n",
        "import matplotlib.pyplot as plt\n",
        "import pyinputplus as pyip\n",
        "# ✅ Import after installing (if needed)\n",
        "from fetch_my_weather import get_weather\n",
        "from hands_on_ai.chat import get_response\n",
        "\n",
        "# Add any other setup code here"
      ]
    },
    {
      "cell_type": "markdown",
      "id": "f736ade3",
      "metadata": {
        "id": "f736ade3"
      },
      "source": [
        "## 🌤️ Weather Data Functions"
      ]
    },
    {
      "cell_type": "code",
      "execution_count": 4,
      "id": "7a2c7cd0",
      "metadata": {
        "id": "7a2c7cd0"
      },
      "outputs": [],
      "source": [
        "import requests\n",
        "\n",
        "def get_weather_data(location, forecast_days=5):\n",
        "    \"\"\"\n",
        "    Retrieve weather data for a specified location using wttr.in.\n",
        "\n",
        "    Args:\n",
        "        location (str): City or location name (e.g. \"London\", \"Paris\", \"Perth\")\n",
        "        forecast_days (int): Number of days to forecast (1–5)\n",
        "\n",
        "    Returns:\n",
        "        dict: Weather data including current conditions and forecast, or None if error.\n",
        "    \"\"\"\n",
        "\n",
        "    def _validate_days(days):\n",
        "        \"\"\"Ensure forecast_days stays within 1–5 range.\"\"\"\n",
        "        return max(1, min(days, 5))\n",
        "\n",
        "    def _fetch_data(url):\n",
        "        \"\"\"Fetch and return JSON data from wttr.in, handling errors.\"\"\"\n",
        "        try:\n",
        "            resp = requests.get(url, timeout=10)\n",
        "            resp.raise_for_status()\n",
        "            return resp.json()\n",
        "        except requests.RequestException as err:\n",
        "            print(f\"Error fetching weather data: {err}\")\n",
        "            return None\n",
        "\n",
        "    def _extract_current(current_data):\n",
        "        \"\"\"Extract and simplify current condition info.\"\"\"\n",
        "        if not current_data:\n",
        "            return {}\n",
        "        data = current_data[0]\n",
        "        return {\n",
        "            \"temp_C\": data.get(\"temp_C\"),\n",
        "            \"weatherDesc\": data.get(\"weatherDesc\", [{}])[0].get(\"value\"),\n",
        "            \"humidity\": data.get(\"humidity\"),\n",
        "            \"FeelsLikeC\": data.get(\"FeelsLikeC\"),\n",
        "            \"windspeedKmph\": data.get(\"windspeedKmph\"),\n",
        "            \"precipMM\": data.get(\"precipMM\"),\n",
        "        }\n",
        "\n",
        "    def _extract_forecast(weather_data, days):\n",
        "        \"\"\"Extract and format forecast for specified number of days.\"\"\"\n",
        "        forecast_list = []\n",
        "        for entry in weather_data[:days]:\n",
        "            astronomy = entry.get(\"astronomy\", [{}])[0]\n",
        "            forecast_list.append({\n",
        "                \"date\": entry.get(\"date\"),\n",
        "                \"maxtempC\": entry.get(\"maxtempC\"),\n",
        "                \"mintempC\": entry.get(\"mintempC\"),\n",
        "                \"avgtempC\": entry.get(\"avgtempC\"),\n",
        "                \"sunrise\": astronomy.get(\"sunrise\"),\n",
        "                \"sunset\": astronomy.get(\"sunset\"),\n",
        "                \"hourly\": entry.get(\"hourly\", [])\n",
        "            })\n",
        "        return forecast_list\n",
        "\n",
        "    # --- Main execution ---\n",
        "    forecast_days = _validate_days(forecast_days)\n",
        "    api_url = f\"https://wttr.in/{location}?format=j1\"\n",
        "\n",
        "    raw_data = _fetch_data(api_url)\n",
        "    if not raw_data:\n",
        "        return None\n",
        "\n",
        "    current = _extract_current(raw_data.get(\"current_condition\", []))\n",
        "    forecast = _extract_forecast(raw_data.get(\"weather\", []), forecast_days)\n",
        "\n",
        "    return {\n",
        "        \"location\": location,\n",
        "        \"current\": current,\n",
        "        \"forecast\": forecast\n",
        "    }"
      ]
    },
    {
      "cell_type": "markdown",
      "id": "8a744fdc",
      "metadata": {
        "id": "8a744fdc"
      },
      "source": [
        "## 📊 Visualisation Functions"
      ]
    },
    {
      "cell_type": "code",
      "execution_count": 6,
      "id": "9dc3bf85",
      "metadata": {
        "id": "9dc3bf85"
      },
      "outputs": [],
      "source": [
        "import matplotlib.pyplot as plt\n",
        "import pandas as pd\n",
        "\n",
        "def create_temperature_visualisation(weather_data, date_range=None, output_type='display'):\n",
        "    \"\"\"\n",
        "    Create a bar chart visualisation of temperature data across a date range.\n",
        "\n",
        "    Args:\n",
        "        weather_data (dict): The processed weather data from get_weather_data()\n",
        "        date_range (tuple/list): Optional start and end date (\"YYYY-MM-DD\", \"YYYY-MM-DD\")\n",
        "        output_type (str): 'display' to show in notebook or 'figure' to return the matplotlib figure\n",
        "\n",
        "    Returns:\n",
        "        matplotlib.figure.Figure if output_type == 'figure', else None\n",
        "    \"\"\"\n",
        "    if not weather_data or \"forecast\" not in weather_data:\n",
        "        print(\"No forecast data available.\")\n",
        "        return None\n",
        "\n",
        "    forecast = weather_data[\"forecast\"]\n",
        "    df = pd.DataFrame(forecast)\n",
        "\n",
        "    # Ensure numeric temperature values\n",
        "    for col in [\"maxtempC\", \"mintempC\", \"avgtempC\"]:\n",
        "        df[col] = pd.to_numeric(df[col], errors=\"coerce\")\n",
        "\n",
        "    # Convert and filter by date range if provided\n",
        "    df[\"date\"] = pd.to_datetime(df[\"date\"])\n",
        "    if date_range:\n",
        "        start_date, end_date = pd.to_datetime(date_range[0]), pd.to_datetime(date_range[1])\n",
        "        df = df[(df[\"date\"] >= start_date) & (df[\"date\"] <= end_date)]\n",
        "\n",
        "    if df.empty:\n",
        "        print(\"No data found for the given date range.\")\n",
        "        return None\n",
        "\n",
        "    # Create bar chart\n",
        "    fig, ax = plt.subplots(figsize=(10, 6))\n",
        "    bar_width = 0.25\n",
        "    x = range(len(df))\n",
        "\n",
        "    ax.bar([i - bar_width for i in x], df[\"maxtempC\"], width=bar_width, label=\"Max Temp (°C)\", color=\"red\")\n",
        "    ax.bar(x, df[\"avgtempC\"], width=bar_width, label=\"Avg Temp (°C)\", color=\"green\")\n",
        "    ax.bar([i + bar_width for i in x], df[\"mintempC\"], width=bar_width, label=\"Min Temp (°C)\", color=\"blue\")\n",
        "\n",
        "    ax.set_title(f\"Temperature Forecast for {weather_data['location']}\")\n",
        "    ax.set_xlabel(\"Date\")\n",
        "    ax.set_ylabel(\"Temperature (°C)\")\n",
        "    ax.set_xticks(x)\n",
        "    ax.set_xticklabels(df[\"date\"].dt.strftime(\"%Y-%m-%d\"), rotation=45)\n",
        "    ax.legend()\n",
        "    ax.grid(axis=\"y\", linestyle=\"--\", alpha=0.6)\n",
        "\n",
        "    plt.tight_layout()\n",
        "\n",
        "    # Return or display\n",
        "    if output_type == 'figure':\n",
        "        return fig\n",
        "    else:\n",
        "        plt.show()\n",
        "        return None\n"
      ]
    },
    {
      "cell_type": "code",
      "source": [
        "import matplotlib.pyplot as plt\n",
        "import pandas as pd\n",
        "\n",
        "def create_precipitation_visualisation(weather_data, output_type='display'):\n",
        "    \"\"\"\n",
        "    Create a combined bar + scatter visualisation of precipitation data across forecast days.\n",
        "\n",
        "    Args:\n",
        "        weather_data (dict): The processed weather data from get_weather_data()\n",
        "        output_type (str): 'display' to show in notebook or 'figure' to return the matplotlib figure\n",
        "\n",
        "    Returns:\n",
        "        matplotlib.figure.Figure if output_type == 'figure', else None\n",
        "    \"\"\"\n",
        "    if not weather_data or \"forecast\" not in weather_data:\n",
        "        print(\"No forecast data available.\")\n",
        "        return None\n",
        "\n",
        "    forecast = weather_data[\"forecast\"]\n",
        "\n",
        "    # Build a daily summary DataFrame\n",
        "    rows = []\n",
        "    for day in forecast:\n",
        "        date = day.get(\"date\")\n",
        "        hourly = day.get(\"hourly\", [])\n",
        "        df_hourly = pd.DataFrame(hourly)\n",
        "\n",
        "        if not df_hourly.empty:\n",
        "            df_hourly[\"precipMM\"] = pd.to_numeric(df_hourly.get(\"precipMM\"), errors=\"coerce\")\n",
        "            df_hourly[\"chanceofrain\"] = pd.to_numeric(df_hourly.get(\"chanceofrain\"), errors=\"coerce\")\n",
        "\n",
        "            daily_precip = df_hourly[\"precipMM\"].sum()\n",
        "            avg_chance = df_hourly[\"chanceofrain\"].mean()\n",
        "        else:\n",
        "            daily_precip, avg_chance = 0, 0\n",
        "\n",
        "        rows.append({\"date\": date, \"precipMM\": daily_precip, \"chanceofrain\": avg_chance})\n",
        "\n",
        "    df = pd.DataFrame(rows)\n",
        "\n",
        "    if df.empty:\n",
        "        print(\"No precipitation data available.\")\n",
        "        return None\n",
        "\n",
        "    # Create figure with bar + scatter\n",
        "    fig, ax1 = plt.subplots(figsize=(10, 6))\n",
        "\n",
        "    # Bar chart for precipitation (mm)\n",
        "    bars = ax1.bar(df[\"date\"], df[\"precipMM\"], color=\"skyblue\", alpha=0.7, label=\"Total Precipitation (mm)\")\n",
        "    ax1.set_xlabel(\"Date\")\n",
        "    ax1.set_ylabel(\"Precipitation (mm)\", color=\"blue\")\n",
        "    ax1.tick_params(axis=\"y\", labelcolor=\"blue\")\n",
        "\n",
        "    # Scatter plot for chance of rain (%) on secondary axis\n",
        "    ax2 = ax1.twinx()\n",
        "    ax2.scatter(df[\"date\"], df[\"chanceofrain\"], color=\"darkgreen\", s=80, label=\"Chance of Rain (%)\", zorder=5)\n",
        "    ax2.set_ylabel(\"Chance of Rain (%)\", color=\"green\")\n",
        "    ax2.tick_params(axis=\"y\", labelcolor=\"green\")\n",
        "\n",
        "    # Titles, grid, and formatting\n",
        "    plt.title(f\"Precipitation Forecast for {weather_data['location']}\")\n",
        "    fig.autofmt_xdate()\n",
        "    ax1.grid(True, linestyle=\"--\", alpha=0.6)\n",
        "\n",
        "    # Legends\n",
        "    ax1.legend(loc=\"upper left\")\n",
        "    ax2.legend(loc=\"upper right\")\n",
        "\n",
        "    plt.tight_layout()\n",
        "\n",
        "    # Return or display\n",
        "    if output_type == 'figure':\n",
        "        return fig\n",
        "    else:\n",
        "        plt.show()\n",
        "        return None\n"
      ],
      "metadata": {
        "id": "HpOlQylYG5Ho"
      },
      "id": "HpOlQylYG5Ho",
      "execution_count": 10,
      "outputs": []
    },
    {
      "cell_type": "markdown",
      "id": "9f95d160",
      "metadata": {
        "id": "9f95d160"
      },
      "source": [
        "## 🤖 Natural Language Processing"
      ]
    },
    {
      "cell_type": "code",
      "execution_count": 14,
      "id": "bcc5833e",
      "metadata": {
        "id": "bcc5833e"
      },
      "outputs": [],
      "source": [
        "import re\n",
        "import datetime\n",
        "def parse_weather_question(question):\n",
        "    question = question.lower()\n",
        "\n",
        "    # Detect attribute\n",
        "    if \"rain\" in question or \"precipitation\" in question:\n",
        "        attribute = \"precipitation\"\n",
        "    elif \"temperature\" in question or \"hot\" in question or \"cold\" in question:\n",
        "        attribute = \"temperature\"\n",
        "    else:\n",
        "        attribute = \"general\"\n",
        "\n",
        "    # Detect time → map to days_ahead\n",
        "    if \"today\" in question:\n",
        "        days_ahead = 0\n",
        "    elif \"tomorrow\" in question:\n",
        "        days_ahead = 1\n",
        "    elif \"day after tomorrow\" in question:\n",
        "        days_ahead = 2\n",
        "    else:\n",
        "        days_ahead = 0  # fallback\n",
        "\n",
        "    # Remove keywords to extract location\n",
        "    location = (question.replace(\"today\", \"\")\n",
        "                        .replace(\"tomorrow\", \"\")\n",
        "                        .replace(\"day after tomorrow\", \"\")\n",
        "                        .replace(\"rain\", \"\")\n",
        "                        .replace(\"precipitation\", \"\")\n",
        "                        .replace(\"temperature\", \"\")\n",
        "                        .replace(\"in\", \"\")\n",
        "                        .strip().title())\n",
        "\n",
        "    return {\n",
        "        \"location\": location,\n",
        "        \"days_ahead\": days_ahead,\n",
        "        \"attribute\": attribute\n",
        "    }\n"
      ]
    },
    {
      "cell_type": "markdown",
      "id": "0d85225e",
      "metadata": {
        "id": "0d85225e"
      },
      "source": [
        "## 🧭 User Interface"
      ]
    },
    {
      "cell_type": "code",
      "execution_count": 19,
      "id": "fa6cb0f6",
      "metadata": {
        "id": "fa6cb0f6",
        "colab": {
          "base_uri": "https://localhost:8080/"
        },
        "outputId": "c393f65f-18ed-4ca4-acb9-5f3144c41f29"
      },
      "outputs": [
        {
          "output_type": "stream",
          "name": "stdout",
          "text": [
            "🌤️ Weather Assistant\n",
            "Ask me about the weather (e.g., 'What will the temperature be in Paris tomorrow?'):\n",
            "> What will the temperature be in Paris tomorrow?\n",
            "{'location': 'What Will The  Be  Paris ?', 'days_ahead': 1, 'attribute': 'temperature'}\n",
            "Error fetching weather data: Expecting value: line 1 column 1 (char 0)\n",
            "Could not fetch weather data.\n"
          ]
        }
      ],
      "source": [
        "# Define menu functions using pyinputplus or ipywidgets here\n",
        "# Include sample input/output for each function\n",
        "def main():\n",
        "    print(\"🌤️ Weather Assistant\")\n",
        "    question = input(\"Ask me about the weather (e.g., 'What will the temperature be in Paris tomorrow?'):\\n> \")\n",
        "\n",
        "    parsed = parse_weather_question(question)\n",
        "    print(parsed)\n",
        "    weather_data = get_weather_data(parsed[\"location\"], forecast_days=3)  # max 3 with wttr.in\n",
        "    if not weather_data:\n",
        "        print(\"Could not fetch weather data.\")\n",
        "        return\n",
        "\n",
        "    response = generate_weather_response(parsed, weather_data)\n",
        "    print(\"\\n👉 \" + response)\n",
        "\n",
        "\n",
        "# Example run\n",
        "if __name__ == \"__main__\":\n",
        "    main()\n"
      ]
    },
    {
      "cell_type": "markdown",
      "id": "d643a53c",
      "metadata": {
        "id": "d643a53c"
      },
      "source": [
        "## 🧩 Main Application Logic"
      ]
    },
    {
      "cell_type": "code",
      "execution_count": 17,
      "id": "a9e2e805",
      "metadata": {
        "id": "a9e2e805"
      },
      "outputs": [],
      "source": [
        "def generate_weather_response(parsed_question, weather_data):\n",
        "\n",
        "    location = parsed_question.get(\"location\", \"the specified location\")\n",
        "    attribute = parsed_question.get(\"attribute\", \"\").lower()\n",
        "    days_ahead = parsed_question.get(\"days_ahead\", 0)\n",
        "\n",
        "    forecast = weather_data.get(\"forecast\", [])\n",
        "    if not forecast:\n",
        "        return (\"Sorry, I couldn’t find any forecast data.\", None)\n",
        "\n",
        "    if days_ahead >= len(forecast):\n",
        "        return (f\"Sorry, I only have forecast data for {len(forecast)} days ahead.\", None)\n",
        "\n",
        "    # Identify target day for message clarity\n",
        "    if days_ahead == 0:\n",
        "        target_day = \"today\"\n",
        "    elif days_ahead == 1:\n",
        "        target_day = \"tomorrow\"\n",
        "    else:\n",
        "        target_day = f\"in {days_ahead} days\"\n",
        "\n",
        "    day_data = forecast[days_ahead]\n",
        "    figure = None  # default (no visualization)\n",
        "\n",
        "    # --- Attribute-specific responses ---\n",
        "    if attribute == \"temperature\":\n",
        "        figure = create_temperature_visualisation(weather_data, output_type=\"figure\")\n",
        "        response = (\n",
        "            f\"The forecasted temperature {target_day} in {location} is \"\n",
        "            f\"{day_data.get('mintempC')}°C to {day_data.get('maxtempC')}°C \"\n",
        "            f\"(average {day_data.get('avgtempC')}°C).\"\n",
        "        )\n",
        "\n",
        "    elif attribute == \"precipitation\":\n",
        "        figure = create_precipitation_visualisation(weather_data, output_type=\"figure\")\n",
        "        total_precip = sum(float(h.get(\"precipMM\", 0)) for h in day_data.get(\"hourly\", []))\n",
        "        response = (\n",
        "            f\"The total expected rainfall {target_day} in {location} \"\n",
        "            f\"is {total_precip:.1f} mm.\"\n",
        "        )\n",
        "\n",
        "\n",
        "\n",
        "    else:\n",
        "        response = (\n",
        "            f\"Sorry, I couldn’t understand the weather attribute in your question. \"\n",
        "            f\"Try asking about temperature, precipitation.\"\n",
        "        )\n",
        "\n",
        "    return response, figure\n"
      ]
    },
    {
      "cell_type": "markdown",
      "id": "fde44479",
      "metadata": {
        "id": "fde44479"
      },
      "source": [
        "## 🧪 Testing and Examples"
      ]
    },
    {
      "cell_type": "code",
      "execution_count": null,
      "id": "4e573901",
      "metadata": {
        "id": "4e573901"
      },
      "outputs": [],
      "source": [
        "# Include sample input/output for each function"
      ]
    },
    {
      "cell_type": "markdown",
      "id": "d2885880",
      "metadata": {
        "id": "d2885880"
      },
      "source": [
        "## 🗂️ AI Prompting Log (Optional)\n",
        "Add markdown cells here summarising prompts used or link to AI conversations in the `ai-conversations/` folder."
      ]
    }
  ],
  "metadata": {
    "language_info": {
      "name": "python"
    },
    "colab": {
      "provenance": [],
      "include_colab_link": true
    },
    "kernelspec": {
      "name": "python3",
      "display_name": "Python 3"
    }
  },
  "nbformat": 4,
  "nbformat_minor": 5
}